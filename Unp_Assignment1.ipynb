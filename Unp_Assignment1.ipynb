{
  "nbformat": 4,
  "nbformat_minor": 0,
  "metadata": {
    "colab": {
      "provenance": [],
      "authorship_tag": "ABX9TyOOigA5eTLLkHePah1KdFpG",
      "include_colab_link": true
    },
    "kernelspec": {
      "name": "python3",
      "display_name": "Python 3"
    },
    "language_info": {
      "name": "python"
    }
  },
  "cells": [
    {
      "cell_type": "markdown",
      "metadata": {
        "id": "view-in-github",
        "colab_type": "text"
      },
      "source": [
        "<a href=\"https://colab.research.google.com/github/chakravartulavinay/UNP_ASSIGNMENT_2023/blob/main/Unp_Assignment1.ipynb\" target=\"_parent\"><img src=\"https://colab.research.google.com/assets/colab-badge.svg\" alt=\"Open In Colab\"/></a>"
      ]
    },
    {
      "cell_type": "markdown",
      "source": [
        "#Problem 1: Multiplication Table with Range\n",
        "Write a Python program that prompts the user to enter a starting number and an ending number, and prints the multiplication table of each number from the starting number to the ending number. The program should use a nested for loop to generate the multiplication tables."
      ],
      "metadata": {
        "id": "vQCa-KKenWFa"
      }
    },
    {
      "cell_type": "code",
      "source": [
        "start_number = int(input(\" enter the starting number: \"))\n",
        "ending_number = int(input(\" enter the last number: \"))\n",
        "for i in range(start_number,ending_number+1):#starting number must be less than ending number.\n",
        "  for j in range(1,11):\n",
        "      print(i,\"x\",j,\"=\",i*j)\n",
        "  print('--------------')"
      ],
      "metadata": {
        "colab": {
          "base_uri": "https://localhost:8080/"
        },
        "id": "ykZzaDNf0Y0S",
        "outputId": "2d6c9391-e57b-4c17-e624-e1b33fbad2a3"
      },
      "execution_count": null,
      "outputs": [
        {
          "output_type": "stream",
          "name": "stdout",
          "text": [
            " enter the starting number: 2\n",
            " enter the last number: 5\n",
            "2 x 1 = 2\n",
            "2 x 2 = 4\n",
            "2 x 3 = 6\n",
            "2 x 4 = 8\n",
            "2 x 5 = 10\n",
            "2 x 6 = 12\n",
            "2 x 7 = 14\n",
            "2 x 8 = 16\n",
            "2 x 9 = 18\n",
            "2 x 10 = 20\n",
            "--------------\n",
            "3 x 1 = 3\n",
            "3 x 2 = 6\n",
            "3 x 3 = 9\n",
            "3 x 4 = 12\n",
            "3 x 5 = 15\n",
            "3 x 6 = 18\n",
            "3 x 7 = 21\n",
            "3 x 8 = 24\n",
            "3 x 9 = 27\n",
            "3 x 10 = 30\n",
            "--------------\n",
            "4 x 1 = 4\n",
            "4 x 2 = 8\n",
            "4 x 3 = 12\n",
            "4 x 4 = 16\n",
            "4 x 5 = 20\n",
            "4 x 6 = 24\n",
            "4 x 7 = 28\n",
            "4 x 8 = 32\n",
            "4 x 9 = 36\n",
            "4 x 10 = 40\n",
            "--------------\n",
            "5 x 1 = 5\n",
            "5 x 2 = 10\n",
            "5 x 3 = 15\n",
            "5 x 4 = 20\n",
            "5 x 5 = 25\n",
            "5 x 6 = 30\n",
            "5 x 7 = 35\n",
            "5 x 8 = 40\n",
            "5 x 9 = 45\n",
            "5 x 10 = 50\n",
            "--------------\n"
          ]
        }
      ]
    },
    {
      "cell_type": "markdown",
      "source": [
        "# Problem 2: Sum of Odd Numbers\n",
        "\n",
        " Write a program to find the sum of all odd numbers between a given range of numbers"
      ],
      "metadata": {
        "id": "LINZY1bzncaZ"
      }
    },
    {
      "cell_type": "code",
      "source": [
        "sum=0\n",
        "v=int(input(\" enter the 1st argument: \"))\n",
        "V=int(input(\" enter the 2nd argument: \"))\n",
        "for odd in range(v,V):\n",
        "  if odd%2!=0 :\n",
        "    sum+=odd\n",
        "print(sum)"
      ],
      "metadata": {
        "colab": {
          "base_uri": "https://localhost:8080/"
        },
        "id": "1sNcaE7HRXIN",
        "outputId": "1d7e5237-9912-4354-ecda-72689bd8c5f6"
      },
      "execution_count": null,
      "outputs": [
        {
          "output_type": "stream",
          "name": "stdout",
          "text": [
            " enter the 1st argument: 1\n",
            " enter the 2nd argument: 20\n",
            "100\n"
          ]
        }
      ]
    }
  ]
}