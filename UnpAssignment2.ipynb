{
  "nbformat": 4,
  "nbformat_minor": 0,
  "metadata": {
    "colab": {
      "provenance": []
    },
    "kernelspec": {
      "name": "python3",
      "display_name": "Python 3"
    },
    "language_info": {
      "name": "python"
    }
  },
  "cells": [
    {
      "cell_type": "markdown",
      "source": [
        "# Problem 1:\n",
        "### Calculate hypotenuse using math module\n",
        "1. Write a Python function named calculate_hypotenuse which takes two arguments that represent the lengths of the two smaller sides of a right triangle and returns the length of the hypotenuse. Use the math module to calculate the square root of the sum of the squares of the two shorter sides."
      ],
      "metadata": {
        "id": "wVU2n9ijPfNZ"
      }
    },
    {
      "cell_type": "code",
      "execution_count": null,
      "metadata": {
        "colab": {
          "base_uri": "https://localhost:8080/"
        },
        "id": "3bHqIDuyPeGz",
        "outputId": "db67289d-7fb6-4faf-af38-50d55b5c0aac"
      },
      "outputs": [
        {
          "output_type": "stream",
          "name": "stdout",
          "text": [
            "the length of the hypotenuse: 5.0\n"
          ]
        }
      ],
      "source": [
        "import math as m\n",
        "def calculate_hypotenuse(adj,opp):\n",
        "    square_sum = (adj)**2 + (opp)**2\n",
        "    hyp = m.sqrt(square_sum)\n",
        "    print(\"the length of the hypotenuse:\",hyp)\n",
        "calculate_hypotenuse(3,4)"
      ]
    },
    {
      "cell_type": "markdown",
      "source": [
        "Problem 2:\n",
        "Average of Even Numbers\n",
        "Implement a function average_of_evens() that takes a list of integer numbers and returns the average of all even numbers in the list.The function should return 0 if there are no even numbers in the list."
      ],
      "metadata": {
        "id": "RcBaz5WHSR8C"
      }
    },
    {
      "cell_type": "code",
      "source": [
        "def average_of_evens(num):\n",
        "  sum_of_evens=0\n",
        "  number_of_evens=0\n",
        "  average_of_evens=0\n",
        "  for x in num:\n",
        "    if x%2==0:\n",
        "      sum_of_evens+=x\n",
        "      number_of_evens+=1\n",
        "  average_of_evens=sum_of_evens/number_of_evens\n",
        "  print(f\"the average of evens in the list is:{average_of_evens}\")\n",
        "num=[1,2,3,4,5]\n",
        "average_of_evens(num)"
      ],
      "metadata": {
        "colab": {
          "base_uri": "https://localhost:8080/"
        },
        "id": "UP6euKVoR5wK",
        "outputId": "d118a715-c6d8-41ee-dc12-5167058ee825"
      },
      "execution_count": 7,
      "outputs": [
        {
          "output_type": "stream",
          "name": "stdout",
          "text": [
            "the average of evens in the list is:3.0\n"
          ]
        }
      ]
    },
    {
      "cell_type": "markdown",
      "source": [
        "# Problem 3:\n",
        "## Computing the Area and Volume of a Sphere\n",
        "Write a Python program that calculates the area and volume of a sphere, given its radius. The program should use the sphere_area, sphere_volume, and compute_sphere functions.\n",
        "\n",
        "The program should first prompt the user to enter the radius of the sphere. After the user enters a valid radius, the program should call the compute_sphere function to calculate the area and volume of the sphere. The program should then print the calculated values.\n",
        "\n"
      ],
      "metadata": {
        "id": "hSd4R5edWtIl"
      }
    },
    {
      "cell_type": "code",
      "source": [
        "def compute_sphere(radius):\n",
        "    pi = 3.14\n",
        "    sphere_area = 4*pi*radius\n",
        "    sphere_volume= (4/3)*pi*(radius)**3\n",
        "    print(f\"the area  of the spher is: \",format(sphere_area,\".2f\"))\n",
        "    print(f\"the volume of the sphere is: \",format(sphere_volume,\".2f\"))\n",
        "radius = int(input((\"enter the radius: \")))\n",
        "compute_sphere(radius)"
      ],
      "metadata": {
        "colab": {
          "base_uri": "https://localhost:8080/"
        },
        "id": "pYeH7sLmVDyV",
        "outputId": "8b8a22c2-13fc-4cb4-b7bd-759f989d986e"
      },
      "execution_count": 8,
      "outputs": [
        {
          "output_type": "stream",
          "name": "stdout",
          "text": [
            "enter the radius: 6\n",
            "the area  of the spher is:  75.36\n",
            "the volume of the sphere is:  904.32\n"
          ]
        }
      ]
    },
    {
      "cell_type": "markdown",
      "source": [
        "# Problem 4:\n",
        "## Function to check if a string is a palindrome\n",
        "\n",
        "Write a Python function is_palindrome(s) that takes in a string s and returns True if s is a palindrome (i.e., the same forwards as backwards), and False otherwise. Assume that s contains only lowercase letters and no spaces or punctuation.\n",
        "Note : A palindrome is a word, phrase, number, or other sequence of characters that reads the same forward and backward. For example, \"racecar\" and \"level\" are palindromes"
      ],
      "metadata": {
        "id": "1_PwEb87ZQrv"
      }
    },
    {
      "cell_type": "code",
      "source": [
        "def is_python(s):\n",
        "  if (s==s[::-1]):\n",
        "    print(f\"true {s} is a palindrome\")\n",
        "  else:\n",
        "   print(f\"false {s} is not a palindrome\")\n",
        "s=str(input(\"enter the string:\"))\n",
        "is_python(s)"
      ],
      "metadata": {
        "id": "4-nNjGOVY6Zi",
        "outputId": "9db347d8-c293-400a-ce76-566e28513fda",
        "colab": {
          "base_uri": "https://localhost:8080/"
        }
      },
      "execution_count": 9,
      "outputs": [
        {
          "output_type": "stream",
          "name": "stdout",
          "text": [
            "enter the string:radar\n",
            "true radar is a palindrome\n"
          ]
        }
      ]
    },
    {
      "cell_type": "markdown",
      "source": [
        "# Problem 5:\n",
        "## Maximum of three integers\n",
        "\n",
        "Write a function called find_max that takes three integers as input and returns the maximum of the three. Don't use the built in max function.\n",
        "For example, if the input integers are 5, 10, and 3, the function should return 10"
      ],
      "metadata": {
        "id": "ku0cnMiBZjna"
      }
    },
    {
      "cell_type": "code",
      "source": [
        "def find_max(num1,num2,num3):\n",
        "  if num1>num2 and num1>num3:\n",
        "     print(\"the maximum of three numbers is: \",num1)\n",
        "  elif num2>num1 and num2>num3:\n",
        "    print(\"the maximum of three numbers is: \",num2)\n",
        "  else:\n",
        "    print(\"the maximum of three numbers is:\",num3)\n",
        "num1=int(input(\"enter the first number \"))\n",
        "num2=int(input(\"enter the second number \"))\n",
        "num3=int(input(\"enter the third number\"))\n",
        "find_max(num1,num2,num3)"
      ],
      "metadata": {
        "colab": {
          "base_uri": "https://localhost:8080/"
        },
        "id": "-xQ9U4NrZkL_",
        "outputId": "e6ccb434-43bd-4719-ecf1-7bc7c339a8ad"
      },
      "execution_count": null,
      "outputs": [
        {
          "output_type": "stream",
          "name": "stdout",
          "text": [
            "enter the first number 8\n",
            "enter the second number 5\n",
            "enter the third number90\n",
            "the maximum of three numbers is: 90\n"
          ]
        }
      ]
    },
    {
      "cell_type": "code",
      "source": [],
      "metadata": {
        "id": "BzVBpsGdaoXl"
      },
      "execution_count": null,
      "outputs": []
    }
  ]
}