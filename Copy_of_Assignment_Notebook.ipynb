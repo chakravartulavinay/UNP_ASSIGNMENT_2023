{
  "nbformat": 4,
  "nbformat_minor": 0,
  "metadata": {
    "colab": {
      "provenance": [],
      "include_colab_link": true
    },
    "kernelspec": {
      "name": "python3",
      "display_name": "Python 3"
    },
    "language_info": {
      "name": "python"
    }
  },
  "cells": [
    {
      "cell_type": "markdown",
      "metadata": {
        "id": "view-in-github",
        "colab_type": "text"
      },
      "source": [
        "<a href=\"https://colab.research.google.com/github/chakravartulavinay/UNP_ASSIGNMENT_2023/blob/main/Copy_of_Assignment_Notebook.ipynb\" target=\"_parent\"><img src=\"https://colab.research.google.com/assets/colab-badge.svg\" alt=\"Open In Colab\"/></a>"
      ]
    },
    {
      "cell_type": "markdown",
      "source": [
        "#Assignment: Linear Regression using numpy, pandas, and matplotlib\n",
        "\n",
        "Dataset:\n",
        "You are provided with a synthetic dataset (`synthetic_house_prices_two_features.csv`) containing information about houses. The dataset has three columns:\n",
        "- `HouseSize`: House size in square feet.\n",
        "- `NumBedrooms`: Number of bedrooms in the house.\n",
        "- `Price`: House price.\n",
        "\n",
        "Link to the dataset: https://drive.google.com/file/d/1kZ94DZSdC276eBY1ZhqOmfMRkZ-2aB5t/view?usp=sharing\n",
        "\n",
        "Task:\n",
        "Your task is to perform linear regression on the dataset using only numpy, pandas, and matplotlib. Linear regression involves fitting a line (in this case, a plane due to two input features) to the data in such a way that it minimizes the sum of squared differences between the actual and predicted values.\n",
        "\n",
        "Learning Resourses:\n",
        "https://youtu.be/PaFPbb66DxQ\n",
        "\n",
        "Note: This assignment is not about theory of Linear Regression but how to practically do it using Python and its libraries. Don’t delve deep into why things are a certain way, or where the equations are coming from. You will cover that in the later modules."
      ],
      "metadata": {
        "id": "5-m32tQyUO_U"
      }
    },
    {
      "cell_type": "markdown",
      "source": [
        "# How to complete this Assignment:\n",
        "\n",
        "1. In this notebook there are blanks denoted by '___' which you essentially have to fill with the right code. The task is to complete this notebook.\n",
        "2. There are helpler code blocks and functions given which are related to the theory of linear regression. The will work only if the flow of the notebook code and the correct names of variables are followed. You have deduce that yourself looking at the code blocks, hints and comments.\n",
        "3. The notebook and any of it's code blocks shouldn't give any errors.\n",
        "4. Try to google, chatgpt to see understand what each line of code does.\n"
      ],
      "metadata": {
        "id": "LIrmw0mRYXHD"
      }
    },
    {
      "cell_type": "markdown",
      "source": [
        "0. Imports\n",
        "\n",
        "`import numpy as np`\n",
        "\n",
        "`import pandas as pd`\n",
        "\n",
        "`import matplotlib.pyplot as plt`"
      ],
      "metadata": {
        "id": "o9bsBP5DV__8"
      }
    },
    {
      "cell_type": "code",
      "execution_count": null,
      "metadata": {
        "id": "eznRDP_KUKem"
      },
      "outputs": [],
      "source": [
        "import _____ as __ # Import Numpy\n",
        "import ______ as __ # Import Pandas\n",
        "import ________________ as ___ # Import Matplotlib Pyplot\n",
        "from mpl_toolkits.mplot3d import Axes3D"
      ]
    },
    {
      "cell_type": "markdown",
      "source": [
        "1. Load the data: Use pandas to read the CSV file and load the dataset into a DataFrame.\n",
        "   - Hint: Use `pd.read_csv()` function.\n"
      ],
      "metadata": {
        "id": "JBoEFdk2V4Uv"
      }
    },
    {
      "cell_type": "code",
      "source": [
        "# Step 1: Load the data\n",
        "path = ___ # give path to dataset\n",
        "data = pd.____() # read dataset using pandas"
      ],
      "metadata": {
        "id": "cwzBlXlpU9nV"
      },
      "execution_count": null,
      "outputs": []
    },
    {
      "cell_type": "markdown",
      "source": [
        "2. Explore the data: Print the first few rows of the DataFrame, check for missing values, and calculate basic statistics like mean, median, and standard deviation.\n",
        "   - Hint: Use `head()`, `info()`, `describe()`, and `isnull().sum()` functions.\n"
      ],
      "metadata": {
        "id": "qYfVOA2tV6U7"
      }
    },
    {
      "cell_type": "code",
      "source": [
        "# Step 2: Explore the data\n",
        "print(data.____) # head\n",
        "print(data.____) # info\n",
        "print(data.____) # describe"
      ],
      "metadata": {
        "id": "ygyJIUC7VRRm"
      },
      "execution_count": null,
      "outputs": []
    },
    {
      "cell_type": "markdown",
      "source": [
        "3. Visualize the data: Create scatter plots using matplotlib to visualize the relationship between the input features (`HouseSize` and `NumBedrooms`) and the target variable (`Price`).\n",
        "   - Hint: Use `plt.scatter()` function.\n",
        "Note: You can create two separate scatter plots (HouseSize vs Price) and (NumBedrooms vs Price). You can however also create a 3d scatter plot using mpl_toolkits.mplot3d"
      ],
      "metadata": {
        "id": "LF8PyLscWhxk"
      }
    },
    {
      "cell_type": "code",
      "source": [
        "# Step 3: Visualize the data (scatter plots)\n",
        "X1 = data[____].values # HouseSize\n",
        "X2 = data[____].values # NumBedrooms\n",
        "Price = data[____].values # Price\n",
        "\n"
      ],
      "metadata": {
        "id": "XS4BaDaWVUk8"
      },
      "execution_count": null,
      "outputs": []
    },
    {
      "cell_type": "code",
      "source": [
        "\n",
        "plt.scatter(____, ____) # HouseSize vs Price\n",
        "plt.xlabel('House Size (Square Feet)')\n",
        "plt.ylabel('Price')\n",
        "plt.title('Scatter Plot of House Size vs. Price')\n",
        "plt.show()\n"
      ],
      "metadata": {
        "id": "ru667MtgXAOU"
      },
      "execution_count": null,
      "outputs": []
    },
    {
      "cell_type": "code",
      "source": [
        "\n",
        "plt.scatter(____, ____) # NumBedrooms vs Price\n",
        "plt.xlabel('Number of Bedrooms')\n",
        "plt.ylabel('Price')\n",
        "plt.title('Scatter Plot of Number of Bedrooms vs. Price')\n",
        "plt.show()\n"
      ],
      "metadata": {
        "id": "NAQEkAASXBZb"
      },
      "execution_count": null,
      "outputs": []
    },
    {
      "cell_type": "code",
      "source": [
        "\n",
        "fig = plt.figure()\n",
        "ax = fig.add_subplot(111, projection='3d')\n",
        "ax.scatter(X1, X2, Price)\n",
        "ax.set_xlabel('House Size (Square Feet)')\n",
        "ax.set_ylabel('Number of Bedrooms')\n",
        "ax.set_zlabel('Price')\n",
        "ax.set_title('3D Scatter Plot of House Size, Number of Bedrooms, and Price')\n",
        "plt.show()"
      ],
      "metadata": {
        "id": "cWOV1cf6XCkz"
      },
      "execution_count": null,
      "outputs": []
    },
    {
      "cell_type": "markdown",
      "source": [
        "Read documentaiton of below to understand what each function is doing!\n",
        "\n"
      ],
      "metadata": {
        "id": "b2bXZQlMXFb7"
      }
    },
    {
      "cell_type": "code",
      "source": [
        "# Step 4: Prepare the data\n",
        "X = np.column_stack((X1, X2))\n",
        "ones = np.ones(X.shape[0])\n",
        "X = np.column_stack((ones, X))"
      ],
      "metadata": {
        "id": "RNSwzbqZXU0b"
      },
      "execution_count": null,
      "outputs": []
    },
    {
      "cell_type": "code",
      "source": [
        "\n",
        "# Step 5: Implement linear regression\n",
        "def linear_regression(X, y):\n",
        "    X_transpose = X.T\n",
        "    coefficients = np.linalg.inv(X_transpose @ X) @ X_transpose @ y\n",
        "    return coefficients\n"
      ],
      "metadata": {
        "id": "YyGNAT8RXp-k"
      },
      "execution_count": null,
      "outputs": []
    },
    {
      "cell_type": "code",
      "source": [
        "\n",
        "# Step 6: Train the model\n",
        "coefficients = linear_regression(X, Price)\n",
        "beta0, beta1, beta2 = coefficients\n"
      ],
      "metadata": {
        "id": "T0u0gMwZXvDC"
      },
      "execution_count": null,
      "outputs": []
    },
    {
      "cell_type": "code",
      "source": [
        "\n",
        "# Step 7: Predict on test data\n",
        "Price_hat = beta0 + beta1 * X1 + beta2 * X2\n"
      ],
      "metadata": {
        "id": "NrOkfmzzXxez"
      },
      "execution_count": null,
      "outputs": []
    },
    {
      "cell_type": "markdown",
      "source": [
        " Evaluate the model: Calculate the mean squared error (MSE) on the train data to assess the model's performance.\n"
      ],
      "metadata": {
        "id": "afVN3T0tX97b"
      }
    },
    {
      "cell_type": "code",
      "source": [
        "# Step 8: Evaluate the model (calculate Mean Squared Error)\n",
        "MSE = np.sum((Price - Price_hat) ** 2) / ____ # Hint --> num of elements\n",
        "\n",
        "# Step 9: Interpret the results\n",
        "print(\"Regression Coefficients:\")\n",
        "print(\"beta0:\", ____)\n",
        "print(\"beta1:\", ____)\n",
        "print(\"beta2:\", ____)\n",
        "print(\"Mean Squared Error:\", ____)"
      ],
      "metadata": {
        "id": "0UXl-EEDX7sj"
      },
      "execution_count": null,
      "outputs": []
    },
    {
      "cell_type": "code",
      "source": [
        "\n",
        "# Step 10: Visualize the regression plane\n",
        "X1_range = np.linspace(min(X1), max(X1), 100)\n",
        "X2_range = np.linspace(min(X2), max(X2), 100)\n",
        "X1_mesh, X2_mesh = np.meshgrid(X1_range, X2_range)\n",
        "Price_plane = beta0 + beta1 * X1_mesh + beta2 * X2_mesh\n",
        "\n",
        "fig = plt.figure()\n",
        "ax = fig.add_subplot(111, projection='3d')\n",
        "ax.scatter(X1, X2, Price, label='Data')\n",
        "ax.plot_surface(X1_mesh, X2_mesh, Price_plane, alpha=0.5, cmap='viridis', label='Regression Plane')\n",
        "ax.set_xlabel('House Size (Square Feet)')\n",
        "ax.set_ylabel('Number of Bedrooms')\n",
        "ax.set_zlabel('Price')\n",
        "ax.set_title('Regression Plane in 3D')\n",
        "# plt.legend()\n",
        "plt.show()"
      ],
      "metadata": {
        "id": "_pqF7WAxYPCr"
      },
      "execution_count": null,
      "outputs": []
    }
  ]
}