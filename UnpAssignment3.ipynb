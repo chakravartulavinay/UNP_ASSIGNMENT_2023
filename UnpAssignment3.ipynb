{
  "nbformat": 4,
  "nbformat_minor": 0,
  "metadata": {
    "colab": {
      "provenance": [],
      "authorship_tag": "ABX9TyPi36VzvfaH7/tbcKPm65F3",
      "include_colab_link": true
    },
    "kernelspec": {
      "name": "python3",
      "display_name": "Python 3"
    },
    "language_info": {
      "name": "python"
    }
  },
  "cells": [
    {
      "cell_type": "markdown",
      "metadata": {
        "id": "view-in-github",
        "colab_type": "text"
      },
      "source": [
        "<a href=\"https://colab.research.google.com/github/chakravartulavinay/UNP_ASSIGNMENT_2023/blob/main/UnpAssignment3.ipynb\" target=\"_parent\"><img src=\"https://colab.research.google.com/assets/colab-badge.svg\" alt=\"Open In Colab\"/></a>"
      ]
    },
    {
      "cell_type": "markdown",
      "source": [
        "# Problem 1 : Common Elements\n",
        "\n",
        "## Write a function called common_elements that takes two lists as input and returns a new list containing only the elements that are common to both lists.\n",
        "\n",
        "### Solve the question in the following two ways:\n",
        "\n",
        "a) Your function should use a loop to iterate over one of the lists and an if-else statement to check if each element is also in the other list.\n",
        "\n",
        "b) Try solving the same without using for loop and if else statement\n",
        "\n",
        "Hint : You can use set and set operations"
      ],
      "metadata": {
        "id": "dpNpoTqoqgRC"
      }
    },
    {
      "cell_type": "code",
      "source": [
        "common_elements_list=[] #creating an empty list\n",
        "def common_elements(list1,list2):# deining a function\n",
        "    for i in list1:\n",
        "      [common_elements_list.append(i) for j in list2 if i==j] ##using loops appending common elements into list\n",
        "    print(\"common elements list is: \\n \",common_elements_list)\n",
        "common_elements([1,2,3,4,5,6,7,8,9,10],[3,4,4,5,6,7])##function call by passing two arguments i.e lists"
      ],
      "metadata": {
        "colab": {
          "base_uri": "https://localhost:8080/"
        },
        "id": "Wsjo0HxWnZ3Q",
        "outputId": "06dee910-aa56-4047-86c3-b373c4d8e48d"
      },
      "execution_count": null,
      "outputs": [
        {
          "output_type": "stream",
          "name": "stdout",
          "text": [
            "common elements list is: \n",
            "  [3, 4, 4, 5, 6, 7]\n"
          ]
        }
      ]
    },
    {
      "cell_type": "code",
      "source": [
        "def common_elements(list1,list2): # deining a function\n",
        "    new_list1=set(list1)# typecasting\n",
        "    new_list2=set(list2)\n",
        "    resulting_list=list(new_list1.intersection(new_list2))# by using intersection method having common elements in sets and converting into list\n",
        "    print(\"common elements list is: \\n\",resulting_list)\n",
        "common_elements([1,2,3,4,5,6,7,8,9,10],[3,4,5,6,7])"
      ],
      "metadata": {
        "colab": {
          "base_uri": "https://localhost:8080/"
        },
        "id": "wO-w7QGfqoi8",
        "outputId": "5596be8a-84b4-4af0-cef8-7fd71f5145fa"
      },
      "execution_count": null,
      "outputs": [
        {
          "output_type": "stream",
          "name": "stdout",
          "text": [
            "common elements list is: \n",
            " [3, 4, 5, 6, 7]\n"
          ]
        }
      ]
    },
    {
      "cell_type": "markdown",
      "source": [
        "# Problem 2 : Remove Vowels from a String\n",
        "\n",
        "## Write a function called remove_vowels that takes a string as input and returns a new string with all the vowels removed.\n",
        "\n",
        "Solve the question in the following two ways:\n",
        "\n",
        " a) Your function should use a loop to iterate over each character in the string and an if-else statement to check if each character is a vowel.\n",
        "\n",
        "b) Use for loop and membership check"
      ],
      "metadata": {
        "id": "o0wif_TqPMHw"
      }
    },
    {
      "cell_type": "code",
      "execution_count": null,
      "metadata": {
        "id": "hs5zT6AkO6cF",
        "colab": {
          "base_uri": "https://localhost:8080/"
        },
        "outputId": "1cfab4aa-89f1-4e8b-a263-9dad1054fc0b"
      },
      "outputs": [
        {
          "output_type": "stream",
          "name": "stdout",
          "text": [
            "enter the string:vinay\n",
            " the string without vowels is: vny"
          ]
        }
      ],
      "source": [
        "def remove_vowels(string): #defining function\n",
        "    print(\" the string without vowels is: \",end=\"\")\n",
        "    for i in string:\n",
        "       if i==\"a\" or i=='e' or i==\"i\" or i==\"o\" or i==\"u\":#using if statement specifying the condition\n",
        "          continue\n",
        "       print(i,end=\"\")\n",
        "string=str(input(\"enter the string:\"))\n",
        "remove_vowels(string)# function call"
      ]
    },
    {
      "cell_type": "code",
      "source": [
        "def remove_vowels(string): #deining function\n",
        "  [print(f\" yes,{i} in string\") for i in string if i==\"a\" or i==\"e\" or i==\"o\" or i==\"i\" or i==\"u\"]#using list comprehension for membership check for vowels\n",
        "remove_vowels(str(input(\"enter the string:\")))"
      ],
      "metadata": {
        "colab": {
          "base_uri": "https://localhost:8080/"
        },
        "id": "jcBVyTTzVbkK",
        "outputId": "84da7b0c-5927-4ede-d68e-03a3d5702875"
      },
      "execution_count": null,
      "outputs": [
        {
          "output_type": "stream",
          "name": "stdout",
          "text": [
            "enter the string:vinay\n",
            " yes,i in string\n",
            " yes,a in string\n"
          ]
        }
      ]
    },
    {
      "cell_type": "markdown",
      "source": [
        "# Problem 3 : Filter Passing Students\n",
        "\n",
        "\n",
        "## Write a function called passing_students that takes a list of tuples as input, where each tuple contains a student's name and their grade, and returns a new list of tuples containing only the names of the students who have a passing grade (grade >= 70). Your function should use a loop to iterate over the list of tuples and an if-else statement to check if each student's grade is passing"
      ],
      "metadata": {
        "id": "kdhaKn3fZTXV"
      }
    },
    {
      "cell_type": "code",
      "source": [
        "def passing_students(list_of_tuple):## deffining function\n",
        "    passing_students_list=[]##creating an empty list\n",
        "    [passing_students_list.append(student) for student,grades in list_of_tuple if grades>=70]# using list comprehension and appending the values\n",
        "    print(\"The passing students list is:\",passing_students_list)\n",
        "passing_students([(\"vinay\",90),(\"vijay\",67),(\"harsha\",80),(\"kalyani\",78),(\"nihal\",66)])## passing aruguments as list of typles for e.g [(\"a\",78),(\"b\",89)]"
      ],
      "metadata": {
        "colab": {
          "base_uri": "https://localhost:8080/"
        },
        "id": "Shu3NnuyvY2p",
        "outputId": "b7bc7443-9aa4-4a75-bff8-898ee45d2d28"
      },
      "execution_count": null,
      "outputs": [
        {
          "output_type": "stream",
          "name": "stdout",
          "text": [
            "The passing students list is: ['vinay', 'harsha', 'kalyani']\n"
          ]
        }
      ]
    },
    {
      "cell_type": "markdown",
      "source": [
        "# Problem 4 : Swap Keys and Values in a Dictionary\n",
        "## Write a function called swap_dict that takes a dictionary as input and returns a new dictionary with the keys and values swapped.\n",
        "\n",
        "### Solve the question in the following two ways:\n",
        "\n",
        "a) Your function should use a loop to iterate over the key-value pairs in the original dictionary and add them to the new dictionary with the values as keys and the keys as values.\n",
        "\n",
        "b) Do the same without using for loop and if else  \n",
        "\n",
        "Hint: You can use Zip() function"
      ],
      "metadata": {
        "id": "JrNpnnXwdS5y"
      }
    },
    {
      "cell_type": "code",
      "source": [
        "def swap_dict(old_dict):## defining function as swap_dict\n",
        "    new_dict=dict([ (y,x) for x,y in old_dict.items()])##using list comprehension\n",
        "    print(\"The new dictionary after swapping keys and values is:\",new_dict)\n",
        "swap_dict({\"v\":10,\"i\":56,\"n\":33,\"a\":45,\"y\":90})##"
      ],
      "metadata": {
        "colab": {
          "base_uri": "https://localhost:8080/"
        },
        "id": "9U3U6NqdjRyQ",
        "outputId": "8979af47-d320-4170-d399-83f67a1d3c5c"
      },
      "execution_count": null,
      "outputs": [
        {
          "output_type": "stream",
          "name": "stdout",
          "text": [
            "The new dictionary after swapping keys and values is: {10: 'v', 56: 'i', 33: 'n', 45: 'a', 90: 'y'}\n"
          ]
        }
      ]
    },
    {
      "cell_type": "code",
      "source": [
        "def swap_dict(old_dict):\n",
        "  new_dict1=old_dict.keys()## accesing keys of dictionary and storing in variable new_dict1\n",
        "  new_dict2=old_dict.values()## accesing values of dictionary and storing in variable new_dict2\n",
        "  swap_dict=dict(zip(new_dict2,new_dict1))# using zip function\n",
        "  print(\"The new dictionary after swapping keys and values is:\",swap_dict)\n",
        "swap_dict({\"v\":10,\"i\":56,\"n\":33,\"a\":45,\"y\":90})"
      ],
      "metadata": {
        "colab": {
          "base_uri": "https://localhost:8080/"
        },
        "id": "iQ_veNz-kn0U",
        "outputId": "23d6a7a2-4535-4427-a2fb-0cc991666dee"
      },
      "execution_count": null,
      "outputs": [
        {
          "output_type": "stream",
          "name": "stdout",
          "text": [
            "The new dictionary after swapping keys and values is: {10: 'v', 56: 'i', 33: 'n', 45: 'a', 90: 'y'}\n"
          ]
        }
      ]
    },
    {
      "cell_type": "code",
      "source": [],
      "metadata": {
        "id": "BF8iyompwJLD"
      },
      "execution_count": null,
      "outputs": []
    }
  ]
}